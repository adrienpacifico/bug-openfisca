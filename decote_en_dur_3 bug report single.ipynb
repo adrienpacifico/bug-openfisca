{
 "cells": [
  {
   "cell_type": "code",
   "execution_count": 2,
   "metadata": {
    "collapsed": false
   },
   "outputs": [
    {
     "name": "stdout",
     "output_type": "stream",
     "text": [
      "---This notebook have been runed with--- \n",
      "Openfisca-france : 7321d6c1a192527105f4fdea7e3ac33a7ecaa70a \n",
      "\n",
      "Commit short SHA: 7321d\n",
      "Branch:  decote2016\n",
      "Date (y/m/d): 2015-10-03 13:32:16  \n",
      "\n",
      "Openfisca-core : 7321d6c1a192527105f4fdea7e3ac33a7ecaa70a  Date: 2015-10-03 13:32:16 \n"
     ]
    }
   ],
   "source": [
    "import git  #Requires Gitpython installed, to install do \"$ pip install Gitpython\" in your terminal\n",
    "import pkg_resources\n",
    "openfisca_france_location = pkg_resources.get_distribution('openfisca-france').location\n",
    "repo = git.Repo(openfisca_france_location)\n",
    "repo.git.status()\n",
    "\n",
    "sha = repo.head.object.hexsha\n",
    "\n",
    "print \"---This notebook have been runed with--- \\n\",\"Openfisca-france :\", repo.head.object.hexsha, '\\n' \n",
    "print \"Commit short SHA:\", repo.git.rev_parse(sha, short=4)\n",
    "print \"Branch: \", repo.git.rev_parse('--abbrev-ref', \"HEAD\") #equivalent to: $git rev-parse --abbrev-ref HEAD\n",
    "print \"Date (y/m/d):\", repo.git.show(\"-s\", '--format=%ci', 'HEAD^')[:-5],\"\\n\"  # equivalent to: $git show -s --format=%ci HEAD^\n",
    "\n",
    "print \"Openfisca-core :\", git.Repo(pkg_resources.get_distribution('openfisca-france').location).head.object.hexsha, ' Date:', git.Repo(pkg_resources.get_distribution('openfisca-france').location).git.show(\"-s\", '--format=%ci', 'HEAD^')[:-5]\n"
   ]
  },
  {
   "cell_type": "code",
   "execution_count": 3,
   "metadata": {
    "collapsed": true
   },
   "outputs": [],
   "source": [
    "%matplotlib inline\n",
    "import matplotlib.pyplot as plt\n",
    "#from openfisca_matplotlib import graphs\n",
    "import numpy as np\n",
    "np.set_printoptions(precision = 2, suppress=True, threshold = 5000)"
   ]
  },
  {
   "cell_type": "code",
   "execution_count": 4,
   "metadata": {
    "collapsed": false
   },
   "outputs": [
    {
     "name": "stdout",
     "output_type": "stream",
     "text": [
      "<class 'openfisca_france.TaxBenefitSystem'>\n"
     ]
    }
   ],
   "source": [
    "from datetime import date  # module nécessaire pour la définition des dates, dont notamment les dates de naissances\n",
    "from openfisca_core import periods\n",
    "import openfisca_france    # module décrivant le système socio-fiscal français\n",
    "from openfisca_france.tests import base\n",
    "#from modulation_allocations_familiales.reforms import af_modulation\n",
    "from openfisca_core import rates\n",
    "TaxBenefitSystem = openfisca_france.init_country()  # Initialisation de la classe décrivant le système socio-fiscal français\n",
    "print TaxBenefitSystem\n",
    "tax_benefit_system = TaxBenefitSystem()  # Création d'une instance du système socio-fiscal français"
   ]
  },
  {
   "cell_type": "code",
   "execution_count": null,
   "metadata": {
    "collapsed": true
   },
   "outputs": [],
   "source": []
  },
  {
   "cell_type": "code",
   "execution_count": 5,
   "metadata": {
    "collapsed": true
   },
   "outputs": [],
   "source": [
    "salaire_de_base_min = 0\n",
    "salaire_de_base_maximal = 2*10**5\n",
    "count = (salaire_de_base_maximal/10)+1 #2000 obs\n",
    "year = 2014\n",
    "axes_variable = 'salaire_de_base'"
   ]
  },
  {
   "cell_type": "code",
   "execution_count": 6,
   "metadata": {
    "collapsed": true
   },
   "outputs": [],
   "source": [
    "def make_single_avec_enfants_scenario(nombre_enfants = 2, year = 2014, tax_benefit_system = tax_benefit_system ):\n",
    "    enfant = [dict(\n",
    "        birth = date(2005, 1, 1),\n",
    "        )]\n",
    "    enfants = enfant * nombre_enfants\n",
    "    scenario = tax_benefit_system.new_scenario().init_single_entity(\n",
    "        axes = [[\n",
    "            dict(\n",
    "                count = count,\n",
    "                min = 0,\n",
    "                max = salaire_de_base_maximal,\n",
    "                name = axes_variable,\n",
    "                period = year-2,\n",
    "                ),\n",
    "            dict(\n",
    "                count = count,\n",
    "                min = 0,\n",
    "                max = salaire_de_base_maximal,\n",
    "                name = axes_variable,\n",
    "                period = year-1,\n",
    "                ),\n",
    "            dict(\n",
    "                count = count,\n",
    "                min = 0,\n",
    "                max = salaire_de_base_maximal,\n",
    "                name = axes_variable,\n",
    "                period = year,\n",
    "                ),\n",
    "            ]],\n",
    "        period = year,\n",
    "        parent1 = dict(\n",
    "            birth = date(1980, 1, 1),\n",
    "            ),\n",
    "        enfants = enfants,\n",
    "        menage = dict(\n",
    "            loyer = 1000,\n",
    "            statut_occupation = 4,\n",
    "            ),\n",
    "        )\n",
    "    return scenario\n"
   ]
  },
  {
   "cell_type": "code",
   "execution_count": 8,
   "metadata": {
    "collapsed": false
   },
   "outputs": [],
   "source": [
    "marginal = rates.marginal_rate(\n",
    "                   make_single_avec_enfants_scenario(0).new_simulation().calculate('impo'),\n",
    "                   make_single_avec_enfants_scenario(0).new_simulation().calculate_add('salaire_imposable'))\n"
   ]
  },
  {
   "cell_type": "code",
   "execution_count": 9,
   "metadata": {
    "collapsed": false
   },
   "outputs": [
    {
     "data": {
      "text/plain": [
       "[<matplotlib.lines.Line2D at 0x10d79f150>]"
      ]
     },
     "execution_count": 9,
     "metadata": {},
     "output_type": "execute_result"
    },
    {
     "data": {
      "image/png": "[encoded data removed]",
      "text/plain": [
       "<matplotlib.figure.Figure at 0x10d79fe90>"
      ]
     },
     "metadata": {},
     "output_type": "display_data"
    }
   ],
   "source": [
    "plt.plot(marginal)"
   ]
  },
  {
   "cell_type": "markdown",
   "metadata": {},
   "source": [
    "Il y a des petits artefacts qui peuvent survenir... On les règles"
   ]
  },
  {
   "cell_type": "code",
   "execution_count": 10,
   "metadata": {
    "collapsed": true
   },
   "outputs": [],
   "source": [
    "def smooth_rate(array):\n",
    "    for obs in range(0, array.shape[0]): #TODO: find a better way to do range(0, shape)\n",
    "        if ( array[obs]- array[obs - 1]) > 3:\n",
    "            array[obs] = 1\n",
    "    return array"
   ]
  },
  {
   "cell_type": "code",
   "execution_count": 11,
   "metadata": {
    "collapsed": false
   },
   "outputs": [],
   "source": [
    "smooth_marginal = marginal\n",
    "smooth_marginal = smooth_rate(smooth_marginal)"
   ]
  },
  {
   "cell_type": "code",
   "execution_count": 12,
   "metadata": {
    "collapsed": false
   },
   "outputs": [
    {
     "data": {
      "text/plain": [
       "[<matplotlib.lines.Line2D at 0x10d5d8d50>]"
      ]
     },
     "execution_count": 12,
     "metadata": {},
     "output_type": "execute_result"
    },
    {
     "data": {
      "image/png": "[encoded data removed]",
      "text/plain": [
       "<matplotlib.figure.Figure at 0x10d67eb10>"
      ]
     },
     "metadata": {},
     "output_type": "display_data"
    }
   ],
   "source": [
    "plt.plot(smooth_marginal-1)"
   ]
  },
  {
   "cell_type": "markdown",
   "metadata": {},
   "source": [
    "On a toujours des artefacts, les taux marginaux ne devraient pas sauter autant... D'autant plus que l'écart de revenu est assez grand (10 euros d'écart...)."
   ]
  },
  {
   "cell_type": "code",
   "execution_count": 15,
   "metadata": {
    "collapsed": false
   },
   "outputs": [
    {
     "data": {
      "text/plain": [
       "array([ 0.25,  0.28,  0.25,  0.25,  0.25,  0.25,  0.28,  0.25,  0.25,\n",
       "        0.25,  0.25,  0.28,  0.25,  0.25,  0.25,  0.25,  0.25,  0.28,\n",
       "        0.25,  0.25,  0.25,  0.25,  0.28,  0.25,  0.25,  0.25,  0.25,\n",
       "        0.28,  0.25,  0.25,  0.25,  0.25,  0.28,  0.25,  0.25,  0.25,\n",
       "        0.25,  0.25,  0.28,  0.25,  0.25,  0.25,  0.25,  0.28,  0.25,\n",
       "        0.25,  0.25,  0.25,  0.28,  0.25,  0.25,  0.25,  0.25,  0.28,\n",
       "        0.25,  0.25,  0.25,  0.25,  0.25,  0.28,  0.25,  0.25,  0.25,\n",
       "        0.25,  0.28,  0.25,  0.25,  0.25,  0.25,  0.28,  0.25,  0.25,\n",
       "        0.25,  0.25,  0.28,  0.25,  0.25,  0.25,  0.25,  0.25,  0.28,\n",
       "        0.25,  0.25,  0.25,  0.25,  0.28,  0.25,  0.25,  0.25,  0.25,\n",
       "        0.28,  0.25,  0.25,  0.25,  0.25,  0.28,  0.25,  0.25,  0.25,\n",
       "        0.25,  0.25,  0.28,  0.25,  0.25,  0.25,  0.25,  0.28,  0.25,\n",
       "        0.25,  0.25,  0.25,  0.28,  0.25,  0.25,  0.25,  0.25,  0.28,\n",
       "        0.25,  0.25,  0.25,  0.25,  0.25,  0.28,  0.25,  0.25,  0.25,\n",
       "        0.25,  0.28,  0.25,  0.25,  0.25,  0.25,  0.28,  0.25,  0.25,\n",
       "        0.25,  0.25,  0.28,  0.25,  0.25,  0.25,  0.25,  0.25,  0.28,\n",
       "        0.25,  0.25,  0.25,  0.25,  0.28,  0.25,  0.25,  0.25,  0.25,\n",
       "        0.28,  0.25,  0.25,  0.25,  0.25,  0.28,  0.25,  0.25,  0.25,\n",
       "        0.25,  0.25,  0.28,  0.25,  0.25,  0.25,  0.25,  0.28,  0.25,\n",
       "        0.25,  0.25,  0.25,  0.28,  0.25,  0.25,  0.25,  0.25,  0.28,\n",
       "        0.25,  0.25,  0.25,  0.25,  0.25,  0.28,  0.25,  0.25,  0.25,\n",
       "        0.25,  0.28,  0.25,  0.25,  0.25,  0.25,  0.28,  0.25,  0.25,\n",
       "        0.25,  0.25,  0.28,  0.25,  0.25,  0.25,  0.25,  0.25,  0.28,\n",
       "        0.25,  0.25,  0.25,  0.25,  0.28,  0.25,  0.25,  0.25,  0.25,\n",
       "        0.28,  0.25,  0.25,  0.25,  0.25,  0.28,  0.25,  0.25,  0.25,\n",
       "        0.25,  0.25,  0.28,  0.25,  0.25,  0.25,  0.25,  0.28,  0.25,\n",
       "        0.25,  0.25,  0.25,  0.28,  0.25,  0.25,  0.25,  0.25,  0.28,\n",
       "        0.25,  0.25,  0.25,  0.25,  0.25,  0.28,  0.25,  0.25,  0.25,\n",
       "        0.25,  0.28,  0.25,  0.25,  0.25,  0.25,  0.28,  0.25,  0.25,\n",
       "        0.25,  0.25,  0.28,  0.25,  0.25,  0.25,  0.25,  0.25,  0.28,\n",
       "        0.25,  0.25,  0.25,  0.25,  0.28,  0.25,  0.25,  0.25,  0.25,\n",
       "        0.28,  0.25,  0.25,  0.25,  0.25,  0.28,  0.25,  0.25,  0.25,\n",
       "        0.25,  0.25,  0.28,  0.25,  0.25,  0.25,  0.25,  0.28,  0.25,\n",
       "        0.25,  0.25,  0.25,  0.28,  0.25,  0.25,  0.25,  0.25,  0.28,\n",
       "        0.25,  0.25,  0.25,  0.25,  0.25,  0.28,  0.25,  0.25,  0.25,\n",
       "        0.25,  0.28,  0.25,  0.25,  0.25,  0.25,  0.28,  0.25,  0.25,\n",
       "        0.25,  0.25,  0.28,  0.25,  0.25,  0.25,  0.25,  0.25,  0.28,\n",
       "        0.25,  0.25,  0.25,  0.25,  0.28,  0.25,  0.25,  0.25,  0.25,\n",
       "        0.28,  0.25,  0.25,  0.25,  0.25,  0.28,  0.25,  0.25,  0.25,\n",
       "        0.25,  0.25,  0.28,  0.25,  0.25,  0.25,  0.25,  0.28,  0.25,\n",
       "        0.25,  0.25,  0.25,  0.28,  0.25,  0.25,  0.25,  0.25,  0.28,\n",
       "        0.25,  0.25,  0.25,  0.25,  0.28,  0.25,  0.25,  0.25,  0.25,\n",
       "        0.25,  0.28,  0.25,  0.25,  0.25,  0.25,  0.28,  0.25,  0.25,\n",
       "        0.25,  0.25,  0.28,  0.25,  0.25,  0.25,  0.25,  0.28,  0.25,\n",
       "        0.25,  0.25,  0.25,  0.25,  0.28,  0.25,  0.25,  0.25,  0.25,\n",
       "        0.28,  0.25,  0.25,  0.25,  0.25,  0.28,  0.25,  0.25,  0.25,\n",
       "        0.25,  0.28,  0.25,  0.25,  0.25,  0.25,  0.25,  0.28,  0.25,\n",
       "        0.25,  0.25,  0.25,  0.28,  0.25,  0.25,  0.25,  0.25,  0.28,\n",
       "        0.25,  0.25,  0.25,  0.25,  0.28,  0.25,  0.25,  0.25,  0.25,\n",
       "        0.25,  0.28,  0.13,  0.12,  0.12,  0.12,  0.14,  0.12,  0.12,\n",
       "        0.12,  0.12,  0.14,  0.12,  0.12,  0.12,  0.12,  0.14,  0.12,\n",
       "        0.12,  0.12,  0.12,  0.12,  0.14,  0.12,  0.12,  0.12,  0.12,\n",
       "        0.14,  0.12,  0.12,  0.12,  0.12,  0.14,  0.12,  0.12,  0.12,\n",
       "        0.12,  0.14,  0.12,  0.12,  0.12,  0.12,  0.12,  0.14,  0.12,\n",
       "        0.12,  0.12,  0.12,  0.14,  0.12,  0.12,  0.12,  0.12,  0.14,\n",
       "        0.12,  0.12,  0.12,  0.12,  0.14,  0.12,  0.12,  0.12,  0.12,\n",
       "        0.12,  0.14,  0.12,  0.12,  0.12,  0.12,  0.14,  0.12,  0.12,\n",
       "        0.12,  0.12,  0.14,  0.12,  0.12,  0.12,  0.12,  0.14,  0.12,\n",
       "        0.12,  0.12,  0.12,  0.12,  0.14,  0.12,  0.12,  0.12,  0.12,\n",
       "        0.14,  0.12,  0.12,  0.12,  0.12,  0.14,  0.12,  0.12,  0.12,\n",
       "        0.12,  0.14,  0.12,  0.12,  0.12,  0.12,  0.12,  0.14,  0.12,\n",
       "        0.12,  0.12,  0.12,  0.14,  0.12,  0.12,  0.12,  0.12,  0.14,\n",
       "        0.12,  0.12,  0.12,  0.12,  0.14,  0.12,  0.12,  0.12,  0.12,\n",
       "        0.12,  0.14,  0.12,  0.12,  0.12,  0.12,  0.14,  0.12,  0.12,\n",
       "        0.12,  0.12,  0.14,  0.12,  0.12,  0.12,  0.12,  0.14,  0.12,\n",
       "        0.12,  0.12,  0.12,  0.12,  0.14,  0.12,  0.12,  0.12,  0.12,\n",
       "        0.14,  0.12,  0.12,  0.12,  0.12,  0.14,  0.12,  0.12,  0.12,\n",
       "        0.12,  0.14,  0.12,  0.12,  0.12,  0.12,  0.12,  0.14,  0.12,\n",
       "        0.12,  0.12,  0.12,  0.14,  0.12,  0.12,  0.12,  0.12,  0.14,\n",
       "        0.12,  0.12,  0.12,  0.12,  0.14,  0.12,  0.12,  0.12,  0.12,\n",
       "        0.12,  0.14,  0.12,  0.12,  0.12,  0.12,  0.14,  0.12,  0.12,\n",
       "        0.12,  0.12,  0.14,  0.12,  0.12,  0.12,  0.12,  0.14,  0.12,\n",
       "        0.12,  0.12,  0.12,  0.12,  0.14,  0.12,  0.12,  0.12,  0.12,\n",
       "        0.14,  0.12,  0.12,  0.12,  0.12,  0.14,  0.12,  0.12,  0.12,\n",
       "        0.12,  0.14,  0.12,  0.12,  0.12,  0.12,  0.12,  0.14,  0.12,\n",
       "        0.12,  0.12,  0.12,  0.14,  0.12,  0.12,  0.12,  0.12,  0.14,\n",
       "        0.12,  0.12,  0.12,  0.12,  0.14,  0.12,  0.12,  0.12,  0.12,\n",
       "        0.12,  0.14,  0.12,  0.12,  0.12,  0.12,  0.14,  0.12,  0.12,\n",
       "        0.12,  0.12,  0.14,  0.12,  0.12,  0.12,  0.12,  0.14,  0.12,\n",
       "        0.12,  0.12,  0.12,  0.12,  0.14,  0.12,  0.12,  0.12,  0.12,\n",
       "        0.14,  0.12,  0.12,  0.12,  0.12,  0.14,  0.12,  0.12,  0.12,\n",
       "        0.12,  0.14,  0.12,  0.12,  0.12,  0.12,  0.14,  0.12,  0.12,\n",
       "        0.12,  0.12,  0.12,  0.14,  0.12,  0.12,  0.12,  0.12,  0.14,\n",
       "        0.12,  0.12,  0.12,  0.12,  0.14,  0.12,  0.12,  0.12,  0.12,\n",
       "        0.14,  0.12,  0.12,  0.12,  0.12,  0.12,  0.14,  0.12,  0.12,\n",
       "        0.12,  0.12,  0.14,  0.12,  0.12,  0.12,  0.12,  0.14,  0.12,\n",
       "        0.12,  0.12,  0.12,  0.14,  0.12,  0.12,  0.12,  0.12,  0.12,\n",
       "        0.14,  0.12,  0.12,  0.12,  0.12,  0.14,  0.12,  0.12,  0.12,\n",
       "        0.12,  0.14,  0.12,  0.12,  0.12,  0.12,  0.14,  0.12,  0.12,\n",
       "        0.12,  0.12,  0.12,  0.14,  0.12,  0.12,  0.12,  0.12,  0.14,\n",
       "        0.12,  0.12,  0.12,  0.12,  0.14,  0.12,  0.12,  0.12,  0.12,\n",
       "        0.14,  0.12,  0.12,  0.12,  0.12,  0.12,  0.14,  0.12,  0.12,\n",
       "        0.12,  0.12,  0.14,  0.12,  0.12,  0.12,  0.12,  0.14,  0.12,\n",
       "        0.12,  0.12,  0.12,  0.14,  0.12,  0.12,  0.12,  0.12,  0.12,\n",
       "        0.14,  0.12,  0.12,  0.12,  0.12,  0.14,  0.12,  0.12,  0.12,\n",
       "        0.12,  0.14,  0.12,  0.12,  0.12,  0.12,  0.14,  0.12,  0.12,\n",
       "        0.12,  0.12,  0.12,  0.14,  0.12,  0.12,  0.12,  0.12,  0.14,\n",
       "        0.12,  0.12,  0.12,  0.12,  0.14,  0.12,  0.12,  0.12,  0.12,\n",
       "        0.14,  0.12,  0.12,  0.12,  0.12,  0.12,  0.14,  0.12,  0.12,\n",
       "        0.12,  0.12,  0.14,  0.12,  0.12,  0.12,  0.12,  0.14,  0.12,\n",
       "        0.12,  0.12,  0.12,  0.14,  0.12,  0.12,  0.12,  0.12,  0.12,\n",
       "        0.14,  0.12,  0.12,  0.12,  0.12,  0.14,  0.12,  0.12,  0.12,\n",
       "        0.12,  0.14,  0.12,  0.12,  0.12,  0.12,  0.14,  0.12,  0.12,\n",
       "        0.12,  0.12,  0.12,  0.14,  0.12,  0.12,  0.12,  0.12,  0.14,\n",
       "        0.12,  0.12,  0.12,  0.12,  0.14,  0.12,  0.12,  0.12,  0.12,\n",
       "        0.14,  0.12,  0.12,  0.12,  0.12,  0.12,  0.14,  0.12,  0.12,\n",
       "        0.12,  0.12,  0.14,  0.12,  0.12,  0.12,  0.12,  0.14,  0.12,\n",
       "        0.12,  0.12,  0.12,  0.14,  0.12,  0.12,  0.12,  0.12,  0.12,\n",
       "        0.14,  0.12,  0.12,  0.12,  0.12,  0.14,  0.12,  0.12,  0.12,\n",
       "        0.12,  0.14,  0.12,  0.12,  0.12,  0.12,  0.14,  0.12,  0.12,\n",
       "        0.12,  0.12,  0.12,  0.14,  0.12,  0.12,  0.12,  0.12,  0.14,  0.12], dtype=float32)"
      ]
     },
     "execution_count": 15,
     "metadata": {},
     "output_type": "execute_result"
    }
   ],
   "source": [
    "(smooth_marginal-1)[2000:3000]"
   ]
  },
  {
   "cell_type": "code",
   "execution_count": null,
   "metadata": {
    "collapsed": true
   },
   "outputs": [],
   "source": []
  }
 ],
 "metadata": {
  "kernelspec": {
   "display_name": "Python 2",
   "language": "python",
   "name": "python2"
  },
  "language_info": {
   "codemirror_mode": {
    "name": "ipython",
    "version": 2
   },
   "file_extension": ".py",
   "mimetype": "text/x-python",
   "name": "python",
   "nbconvert_exporter": "python",
   "pygments_lexer": "ipython2",
   "version": "2.7.10"
  }
 },
 "nbformat": 4,
 "nbformat_minor": 0
}
